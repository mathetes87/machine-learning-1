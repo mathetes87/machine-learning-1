{
 "cells": [
  {
   "cell_type": "markdown",
   "metadata": {},
   "source": [
    "# Test very basic profitability of a model"
   ]
  },
  {
   "cell_type": "code",
   "execution_count": 5,
   "metadata": {},
   "outputs": [
    {
     "name": "stdout",
     "output_type": "stream",
     "text": [
      "\n"
     ]
    }
   ],
   "source": [
    "from keras.models import load_model\n",
    "from sklearn.metrics import accuracy_score, f1_score\n",
    "from sklearn import preprocessing\n",
    "from feed_data import Data_feed\n",
    "from tqdm import tqdm\n",
    "import numpy as np"
   ]
  },
  {
   "cell_type": "markdown",
   "metadata": {},
   "source": [
    "## First, let's explore minimally how accurate the model is"
   ]
  },
  {
   "cell_type": "code",
   "execution_count": 6,
   "metadata": {},
   "outputs": [
    {
     "name": "stderr",
     "output_type": "stream",
     "text": [
      "100%|██████████| 43864/43864 [07:29<00:00, 97.64it/s]\n"
     ]
    }
   ],
   "source": [
    "# import model to test\n",
    "model = load_model('LSTM_best.h5')\n",
    "\n",
    "# import test data feeder class\n",
    "data = Data_feed(filepath='data/EURUSD_M5_438K_Preprocessed.csv', window=64, percentage=0.1, dataset='test')\n",
    "\n",
    "# predict upon all test data points\n",
    "y_hats = []\n",
    "y_true = []\n",
    "for i in tqdm(range(data.length)):\n",
    "    X, y = data.next_batch()\n",
    "    y_true.append(np.argmax(y))\n",
    "    y_hats.append(model.predict(X))"
   ]
  },
  {
   "cell_type": "code",
   "execution_count": 16,
   "metadata": {},
   "outputs": [],
   "source": [
    "# test data points to argmax format\n",
    "y_hats_argmax = []\n",
    "for y_hat in y_hats:\n",
    "    y_hats_argmax.append(np.argmax(y_hat))"
   ]
  },
  {
   "cell_type": "code",
   "execution_count": 37,
   "metadata": {},
   "outputs": [
    {
     "name": "stdout",
     "output_type": "stream",
     "text": [
      "Average accuracy is: 90.91%\n",
      "\n",
      "Average f1 score for each class is:\n",
      "\n",
      "1. Way down 0.898945115426\n",
      "\n",
      "2. Shy down 0.909145070003\n",
      "\n",
      "3. Shy up 0.911608376741\n",
      "\n",
      "4. Way up 0.904704463209\n"
     ]
    }
   ],
   "source": [
    "# accuracy and f1 score\n",
    "y_hats_argmax = np.asarray(y_hats_argmax)\n",
    "y_true = np.asarray(y_true)\n",
    "acc = accuracy_score(y_true, y_hats_argmax)\n",
    "f1 = f1_score(y_true, y_hats_argmax, average=None)\n",
    "print \"Average accuracy is: {0:.2f}%\".format(100*acc)\n",
    "print \"\"\"\\nAverage f1 score for each class is:\n",
    "\\n1. Way down {}\n",
    "\\n2. Shy down {}\n",
    "\\n3. Shy up {}\n",
    "\\n4. Way up {}\"\"\".format(f1[0], f1[1], f1[2], f1[3])"
   ]
  },
  {
   "cell_type": "markdown",
   "metadata": {},
   "source": [
    "## Now, let's see if we could have made money with it!"
   ]
  },
  {
   "cell_type": "code",
   "execution_count": null,
   "metadata": {
    "collapsed": true
   },
   "outputs": [],
   "source": [
    "def "
   ]
  }
 ],
 "metadata": {
  "kernelspec": {
   "display_name": "ml",
   "language": "python",
   "name": "ml"
  },
  "language_info": {
   "codemirror_mode": {
    "name": "ipython",
    "version": 2
   },
   "file_extension": ".py",
   "mimetype": "text/x-python",
   "name": "python",
   "nbconvert_exporter": "python",
   "pygments_lexer": "ipython2",
   "version": "2.7.12"
  }
 },
 "nbformat": 4,
 "nbformat_minor": 2
}
