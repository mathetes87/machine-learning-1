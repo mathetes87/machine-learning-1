{
 "cells": [
  {
   "cell_type": "markdown",
   "metadata": {},
   "source": [
    "# Explore and preprocess EURUSD data"
   ]
  },
  {
   "cell_type": "markdown",
   "metadata": {},
   "source": [
    "First, import all necessary libraries and the data file"
   ]
  },
  {
   "cell_type": "code",
   "execution_count": 2,
   "metadata": {
    "collapsed": true
   },
   "outputs": [],
   "source": [
    "import pandas as pd\n",
    "import matplotlib.pyplot as plt\n",
    "\n",
    "# Pretty display\n",
    "%matplotlib inline\n",
    "\n",
    "# Import data\n",
    "data = pd.read_csv('data/EURUSD_M5_438K.csv')"
   ]
  },
  {
   "cell_type": "code",
   "execution_count": 32,
   "metadata": {},
   "outputs": [],
   "source": [
    "# Lets transform the time column into a datetime \"type\"\n",
    "from datetime import datetime\n",
    "data['time'] = pd.to_datetime(data['time'], format='%Y_%m_%d_%H_%M_%S')"
   ]
  },
  {
   "cell_type": "markdown",
   "metadata": {},
   "source": [
    "Let's see some random points in our data"
   ]
  },
  {
   "cell_type": "code",
   "execution_count": 33,
   "metadata": {
    "scrolled": true
   },
   "outputs": [
    {
     "data": {
      "text/html": [
       "<div>\n",
       "<style>\n",
       "    .dataframe thead tr:only-child th {\n",
       "        text-align: right;\n",
       "    }\n",
       "\n",
       "    .dataframe thead th {\n",
       "        text-align: left;\n",
       "    }\n",
       "\n",
       "    .dataframe tbody tr th {\n",
       "        vertical-align: top;\n",
       "    }\n",
       "</style>\n",
       "<table border=\"1\" class=\"dataframe\">\n",
       "  <thead>\n",
       "    <tr style=\"text-align: right;\">\n",
       "      <th></th>\n",
       "      <th>time</th>\n",
       "      <th>close</th>\n",
       "      <th>open</th>\n",
       "      <th>high</th>\n",
       "      <th>low</th>\n",
       "      <th>sebas_stoch1</th>\n",
       "      <th>sebas_stoch2</th>\n",
       "      <th>negrita1</th>\n",
       "      <th>negrita2</th>\n",
       "      <th>ladrillo</th>\n",
       "    </tr>\n",
       "  </thead>\n",
       "  <tbody>\n",
       "    <tr>\n",
       "      <th>180560</th>\n",
       "      <td>2014-06-12 02:20:00</td>\n",
       "      <td>1.35348</td>\n",
       "      <td>1.35346</td>\n",
       "      <td>1.35352</td>\n",
       "      <td>1.35344</td>\n",
       "      <td>64.371257</td>\n",
       "      <td>64.577183</td>\n",
       "      <td>0.000066</td>\n",
       "      <td>0.000067</td>\n",
       "      <td>-0.000002</td>\n",
       "    </tr>\n",
       "    <tr>\n",
       "      <th>226967</th>\n",
       "      <td>2015-01-29 09:20:00</td>\n",
       "      <td>1.12929</td>\n",
       "      <td>1.12981</td>\n",
       "      <td>1.13004</td>\n",
       "      <td>1.12929</td>\n",
       "      <td>65.606749</td>\n",
       "      <td>67.540512</td>\n",
       "      <td>0.000524</td>\n",
       "      <td>0.000383</td>\n",
       "      <td>0.000141</td>\n",
       "    </tr>\n",
       "    <tr>\n",
       "      <th>415363</th>\n",
       "      <td>2017-08-08 09:35:00</td>\n",
       "      <td>1.18036</td>\n",
       "      <td>1.18029</td>\n",
       "      <td>1.18051</td>\n",
       "      <td>1.18015</td>\n",
       "      <td>33.524355</td>\n",
       "      <td>35.000999</td>\n",
       "      <td>-0.000152</td>\n",
       "      <td>-0.000127</td>\n",
       "      <td>-0.000025</td>\n",
       "    </tr>\n",
       "    <tr>\n",
       "      <th>64599</th>\n",
       "      <td>2012-11-13 07:05:00</td>\n",
       "      <td>1.26828</td>\n",
       "      <td>1.26806</td>\n",
       "      <td>1.26829</td>\n",
       "      <td>1.26793</td>\n",
       "      <td>53.571429</td>\n",
       "      <td>58.289541</td>\n",
       "      <td>-0.000019</td>\n",
       "      <td>-0.000037</td>\n",
       "      <td>0.000018</td>\n",
       "    </tr>\n",
       "    <tr>\n",
       "      <th>117469</th>\n",
       "      <td>2013-08-02 03:30:00</td>\n",
       "      <td>1.31983</td>\n",
       "      <td>1.31947</td>\n",
       "      <td>1.31984</td>\n",
       "      <td>1.31931</td>\n",
       "      <td>24.776604</td>\n",
       "      <td>21.061173</td>\n",
       "      <td>-0.000362</td>\n",
       "      <td>-0.000309</td>\n",
       "      <td>-0.000053</td>\n",
       "    </tr>\n",
       "  </tbody>\n",
       "</table>\n",
       "</div>"
      ],
      "text/plain": [
       "                      time    close     open     high      low  sebas_stoch1  \\\n",
       "180560 2014-06-12 02:20:00  1.35348  1.35346  1.35352  1.35344     64.371257   \n",
       "226967 2015-01-29 09:20:00  1.12929  1.12981  1.13004  1.12929     65.606749   \n",
       "415363 2017-08-08 09:35:00  1.18036  1.18029  1.18051  1.18015     33.524355   \n",
       "64599  2012-11-13 07:05:00  1.26828  1.26806  1.26829  1.26793     53.571429   \n",
       "117469 2013-08-02 03:30:00  1.31983  1.31947  1.31984  1.31931     24.776604   \n",
       "\n",
       "        sebas_stoch2  negrita1  negrita2  ladrillo  \n",
       "180560     64.577183  0.000066  0.000067 -0.000002  \n",
       "226967     67.540512  0.000524  0.000383  0.000141  \n",
       "415363     35.000999 -0.000152 -0.000127 -0.000025  \n",
       "64599      58.289541 -0.000019 -0.000037  0.000018  \n",
       "117469     21.061173 -0.000362 -0.000309 -0.000053  "
      ]
     },
     "execution_count": 33,
     "metadata": {},
     "output_type": "execute_result"
    }
   ],
   "source": [
    "data.sample(5)"
   ]
  },
  {
   "cell_type": "markdown",
   "metadata": {},
   "source": [
    "Everything looks normal. Now let's view some statistics of our data using the handy `'descibe'` function of pandas"
   ]
  },
  {
   "cell_type": "code",
   "execution_count": 34,
   "metadata": {},
   "outputs": [
    {
     "data": {
      "text/html": [
       "<div>\n",
       "<style>\n",
       "    .dataframe thead tr:only-child th {\n",
       "        text-align: right;\n",
       "    }\n",
       "\n",
       "    .dataframe thead th {\n",
       "        text-align: left;\n",
       "    }\n",
       "\n",
       "    .dataframe tbody tr th {\n",
       "        vertical-align: top;\n",
       "    }\n",
       "</style>\n",
       "<table border=\"1\" class=\"dataframe\">\n",
       "  <thead>\n",
       "    <tr style=\"text-align: right;\">\n",
       "      <th></th>\n",
       "      <th>close</th>\n",
       "      <th>open</th>\n",
       "      <th>high</th>\n",
       "      <th>low</th>\n",
       "      <th>sebas_stoch1</th>\n",
       "      <th>sebas_stoch2</th>\n",
       "      <th>negrita1</th>\n",
       "      <th>negrita2</th>\n",
       "      <th>ladrillo</th>\n",
       "    </tr>\n",
       "  </thead>\n",
       "  <tbody>\n",
       "    <tr>\n",
       "      <th>count</th>\n",
       "      <td>438640.000000</td>\n",
       "      <td>438640.000000</td>\n",
       "      <td>438640.000000</td>\n",
       "      <td>438640.000000</td>\n",
       "      <td>438640.000000</td>\n",
       "      <td>438640.000000</td>\n",
       "      <td>4.386400e+05</td>\n",
       "      <td>4.386400e+05</td>\n",
       "      <td>4.386400e+05</td>\n",
       "    </tr>\n",
       "    <tr>\n",
       "      <th>mean</th>\n",
       "      <td>11.677773</td>\n",
       "      <td>11.433027</td>\n",
       "      <td>12.063090</td>\n",
       "      <td>12.166126</td>\n",
       "      <td>134.182677</td>\n",
       "      <td>49.698128</td>\n",
       "      <td>-1.765522e-06</td>\n",
       "      <td>-1.763238e-06</td>\n",
       "      <td>-2.284511e-09</td>\n",
       "    </tr>\n",
       "    <tr>\n",
       "      <th>std</th>\n",
       "      <td>112.502253</td>\n",
       "      <td>111.153666</td>\n",
       "      <td>114.504286</td>\n",
       "      <td>115.457485</td>\n",
       "      <td>2200.830566</td>\n",
       "      <td>20.736170</td>\n",
       "      <td>4.321818e-04</td>\n",
       "      <td>4.258041e-04</td>\n",
       "      <td>1.043231e-04</td>\n",
       "    </tr>\n",
       "    <tr>\n",
       "      <th>min</th>\n",
       "      <td>1.034490</td>\n",
       "      <td>1.034490</td>\n",
       "      <td>1.035800</td>\n",
       "      <td>1.032490</td>\n",
       "      <td>1.630600</td>\n",
       "      <td>2.267673</td>\n",
       "      <td>-7.438083e-03</td>\n",
       "      <td>-7.053718e-03</td>\n",
       "      <td>-2.186876e-03</td>\n",
       "    </tr>\n",
       "    <tr>\n",
       "      <th>25%</th>\n",
       "      <td>1.115130</td>\n",
       "      <td>1.115130</td>\n",
       "      <td>1.115360</td>\n",
       "      <td>1.114910</td>\n",
       "      <td>32.248521</td>\n",
       "      <td>32.615648</td>\n",
       "      <td>-1.701806e-04</td>\n",
       "      <td>-1.677128e-04</td>\n",
       "      <td>-4.389836e-05</td>\n",
       "    </tr>\n",
       "    <tr>\n",
       "      <th>50%</th>\n",
       "      <td>1.224350</td>\n",
       "      <td>1.224290</td>\n",
       "      <td>1.224910</td>\n",
       "      <td>1.223970</td>\n",
       "      <td>49.721857</td>\n",
       "      <td>49.668944</td>\n",
       "      <td>-6.156445e-07</td>\n",
       "      <td>-6.989657e-07</td>\n",
       "      <td>1.129529e-07</td>\n",
       "    </tr>\n",
       "    <tr>\n",
       "      <th>75%</th>\n",
       "      <td>1.317343</td>\n",
       "      <td>1.317300</td>\n",
       "      <td>1.317640</td>\n",
       "      <td>1.317120</td>\n",
       "      <td>67.261905</td>\n",
       "      <td>66.760663</td>\n",
       "      <td>1.678373e-04</td>\n",
       "      <td>1.654748e-04</td>\n",
       "      <td>4.396166e-05</td>\n",
       "    </tr>\n",
       "    <tr>\n",
       "      <th>max</th>\n",
       "      <td>1394.000000</td>\n",
       "      <td>1395.000000</td>\n",
       "      <td>1395.000000</td>\n",
       "      <td>1393.000000</td>\n",
       "      <td>90625.000000</td>\n",
       "      <td>97.330773</td>\n",
       "      <td>7.210471e-03</td>\n",
       "      <td>6.871573e-03</td>\n",
       "      <td>2.316783e-03</td>\n",
       "    </tr>\n",
       "  </tbody>\n",
       "</table>\n",
       "</div>"
      ],
      "text/plain": [
       "               close           open           high            low  \\\n",
       "count  438640.000000  438640.000000  438640.000000  438640.000000   \n",
       "mean       11.677773      11.433027      12.063090      12.166126   \n",
       "std       112.502253     111.153666     114.504286     115.457485   \n",
       "min         1.034490       1.034490       1.035800       1.032490   \n",
       "25%         1.115130       1.115130       1.115360       1.114910   \n",
       "50%         1.224350       1.224290       1.224910       1.223970   \n",
       "75%         1.317343       1.317300       1.317640       1.317120   \n",
       "max      1394.000000    1395.000000    1395.000000    1393.000000   \n",
       "\n",
       "        sebas_stoch1   sebas_stoch2      negrita1      negrita2      ladrillo  \n",
       "count  438640.000000  438640.000000  4.386400e+05  4.386400e+05  4.386400e+05  \n",
       "mean      134.182677      49.698128 -1.765522e-06 -1.763238e-06 -2.284511e-09  \n",
       "std      2200.830566      20.736170  4.321818e-04  4.258041e-04  1.043231e-04  \n",
       "min         1.630600       2.267673 -7.438083e-03 -7.053718e-03 -2.186876e-03  \n",
       "25%        32.248521      32.615648 -1.701806e-04 -1.677128e-04 -4.389836e-05  \n",
       "50%        49.721857      49.668944 -6.156445e-07 -6.989657e-07  1.129529e-07  \n",
       "75%        67.261905      66.760663  1.678373e-04  1.654748e-04  4.396166e-05  \n",
       "max     90625.000000      97.330773  7.210471e-03  6.871573e-03  2.316783e-03  "
      ]
     },
     "execution_count": 34,
     "metadata": {},
     "output_type": "execute_result"
    }
   ],
   "source": [
    "data.describe()"
   ]
  },
  {
   "cell_type": "markdown",
   "metadata": {},
   "source": [
    "There seems to be some strange outliers in the first 5 columns, let's see how they look in a plot. Because everything is better with plots"
   ]
  },
  {
   "cell_type": "code",
   "execution_count": 44,
   "metadata": {},
   "outputs": [
    {
     "data": {
      "image/png": "[encoded data removed]",
      "text/plain": [
       "<matplotlib.figure.Figure at 0x7f569a53eb90>"
      ]
     },
     "metadata": {},
     "output_type": "display_data"
    }
   ],
   "source": [
    "fig = plt.figure(figsize=(15,7))\n",
    "for i in range(1,6):\n",
    "    ax = fig.add_subplot(320 + i)\n",
    "    ax.hist(data[data.columns[i]], label='a')\n",
    "    ax.title.set_text(data.columns[i])\n",
    "plt.tight_layout()\n",
    "plt.show()"
   ]
  },
  {
   "cell_type": "code",
   "execution_count": 15,
   "metadata": {},
   "outputs": [
    {
     "ename": "KeyError",
     "evalue": "0",
     "output_type": "error",
     "traceback": [
      "\u001b[0;31m---------------------------------------------------------------------------\u001b[0m",
      "\u001b[0;31mKeyError\u001b[0m                                  Traceback (most recent call last)",
      "\u001b[0;32m<ipython-input-15-88cae4a5bf31>\u001b[0m in \u001b[0;36m<module>\u001b[0;34m()\u001b[0m\n\u001b[0;32m----> 1\u001b[0;31m \u001b[0mdata\u001b[0m\u001b[0;34m[\u001b[0m\u001b[0;36m0\u001b[0m\u001b[0;34m]\u001b[0m\u001b[0;34m\u001b[0m\u001b[0m\n\u001b[0m",
      "\u001b[0;32m/home/mathetes/Envs/ml/local/lib/python2.7/site-packages/pandas/core/frame.pyc\u001b[0m in \u001b[0;36m__getitem__\u001b[0;34m(self, key)\u001b[0m\n\u001b[1;32m   1962\u001b[0m             \u001b[0;32mreturn\u001b[0m \u001b[0mself\u001b[0m\u001b[0;34m.\u001b[0m\u001b[0m_getitem_multilevel\u001b[0m\u001b[0;34m(\u001b[0m\u001b[0mkey\u001b[0m\u001b[0;34m)\u001b[0m\u001b[0;34m\u001b[0m\u001b[0m\n\u001b[1;32m   1963\u001b[0m         \u001b[0;32melse\u001b[0m\u001b[0;34m:\u001b[0m\u001b[0;34m\u001b[0m\u001b[0m\n\u001b[0;32m-> 1964\u001b[0;31m             \u001b[0;32mreturn\u001b[0m \u001b[0mself\u001b[0m\u001b[0;34m.\u001b[0m\u001b[0m_getitem_column\u001b[0m\u001b[0;34m(\u001b[0m\u001b[0mkey\u001b[0m\u001b[0;34m)\u001b[0m\u001b[0;34m\u001b[0m\u001b[0m\n\u001b[0m\u001b[1;32m   1965\u001b[0m \u001b[0;34m\u001b[0m\u001b[0m\n\u001b[1;32m   1966\u001b[0m     \u001b[0;32mdef\u001b[0m \u001b[0m_getitem_column\u001b[0m\u001b[0;34m(\u001b[0m\u001b[0mself\u001b[0m\u001b[0;34m,\u001b[0m \u001b[0mkey\u001b[0m\u001b[0;34m)\u001b[0m\u001b[0;34m:\u001b[0m\u001b[0;34m\u001b[0m\u001b[0m\n",
      "\u001b[0;32m/home/mathetes/Envs/ml/local/lib/python2.7/site-packages/pandas/core/frame.pyc\u001b[0m in \u001b[0;36m_getitem_column\u001b[0;34m(self, key)\u001b[0m\n\u001b[1;32m   1969\u001b[0m         \u001b[0;31m# get column\u001b[0m\u001b[0;34m\u001b[0m\u001b[0;34m\u001b[0m\u001b[0m\n\u001b[1;32m   1970\u001b[0m         \u001b[0;32mif\u001b[0m \u001b[0mself\u001b[0m\u001b[0;34m.\u001b[0m\u001b[0mcolumns\u001b[0m\u001b[0;34m.\u001b[0m\u001b[0mis_unique\u001b[0m\u001b[0;34m:\u001b[0m\u001b[0;34m\u001b[0m\u001b[0m\n\u001b[0;32m-> 1971\u001b[0;31m             \u001b[0;32mreturn\u001b[0m \u001b[0mself\u001b[0m\u001b[0;34m.\u001b[0m\u001b[0m_get_item_cache\u001b[0m\u001b[0;34m(\u001b[0m\u001b[0mkey\u001b[0m\u001b[0;34m)\u001b[0m\u001b[0;34m\u001b[0m\u001b[0m\n\u001b[0m\u001b[1;32m   1972\u001b[0m \u001b[0;34m\u001b[0m\u001b[0m\n\u001b[1;32m   1973\u001b[0m         \u001b[0;31m# duplicate columns & possible reduce dimensionality\u001b[0m\u001b[0;34m\u001b[0m\u001b[0;34m\u001b[0m\u001b[0m\n",
      "\u001b[0;32m/home/mathetes/Envs/ml/local/lib/python2.7/site-packages/pandas/core/generic.pyc\u001b[0m in \u001b[0;36m_get_item_cache\u001b[0;34m(self, item)\u001b[0m\n\u001b[1;32m   1643\u001b[0m         \u001b[0mres\u001b[0m \u001b[0;34m=\u001b[0m \u001b[0mcache\u001b[0m\u001b[0;34m.\u001b[0m\u001b[0mget\u001b[0m\u001b[0;34m(\u001b[0m\u001b[0mitem\u001b[0m\u001b[0;34m)\u001b[0m\u001b[0;34m\u001b[0m\u001b[0m\n\u001b[1;32m   1644\u001b[0m         \u001b[0;32mif\u001b[0m \u001b[0mres\u001b[0m \u001b[0;32mis\u001b[0m \u001b[0mNone\u001b[0m\u001b[0;34m:\u001b[0m\u001b[0;34m\u001b[0m\u001b[0m\n\u001b[0;32m-> 1645\u001b[0;31m             \u001b[0mvalues\u001b[0m \u001b[0;34m=\u001b[0m \u001b[0mself\u001b[0m\u001b[0;34m.\u001b[0m\u001b[0m_data\u001b[0m\u001b[0;34m.\u001b[0m\u001b[0mget\u001b[0m\u001b[0;34m(\u001b[0m\u001b[0mitem\u001b[0m\u001b[0;34m)\u001b[0m\u001b[0;34m\u001b[0m\u001b[0m\n\u001b[0m\u001b[1;32m   1646\u001b[0m             \u001b[0mres\u001b[0m \u001b[0;34m=\u001b[0m \u001b[0mself\u001b[0m\u001b[0;34m.\u001b[0m\u001b[0m_box_item_values\u001b[0m\u001b[0;34m(\u001b[0m\u001b[0mitem\u001b[0m\u001b[0;34m,\u001b[0m \u001b[0mvalues\u001b[0m\u001b[0;34m)\u001b[0m\u001b[0;34m\u001b[0m\u001b[0m\n\u001b[1;32m   1647\u001b[0m             \u001b[0mcache\u001b[0m\u001b[0;34m[\u001b[0m\u001b[0mitem\u001b[0m\u001b[0;34m]\u001b[0m \u001b[0;34m=\u001b[0m \u001b[0mres\u001b[0m\u001b[0;34m\u001b[0m\u001b[0m\n",
      "\u001b[0;32m/home/mathetes/Envs/ml/local/lib/python2.7/site-packages/pandas/core/internals.pyc\u001b[0m in \u001b[0;36mget\u001b[0;34m(self, item, fastpath)\u001b[0m\n\u001b[1;32m   3588\u001b[0m \u001b[0;34m\u001b[0m\u001b[0m\n\u001b[1;32m   3589\u001b[0m             \u001b[0;32mif\u001b[0m \u001b[0;32mnot\u001b[0m \u001b[0misnull\u001b[0m\u001b[0;34m(\u001b[0m\u001b[0mitem\u001b[0m\u001b[0;34m)\u001b[0m\u001b[0;34m:\u001b[0m\u001b[0;34m\u001b[0m\u001b[0m\n\u001b[0;32m-> 3590\u001b[0;31m                 \u001b[0mloc\u001b[0m \u001b[0;34m=\u001b[0m \u001b[0mself\u001b[0m\u001b[0;34m.\u001b[0m\u001b[0mitems\u001b[0m\u001b[0;34m.\u001b[0m\u001b[0mget_loc\u001b[0m\u001b[0;34m(\u001b[0m\u001b[0mitem\u001b[0m\u001b[0;34m)\u001b[0m\u001b[0;34m\u001b[0m\u001b[0m\n\u001b[0m\u001b[1;32m   3591\u001b[0m             \u001b[0;32melse\u001b[0m\u001b[0;34m:\u001b[0m\u001b[0;34m\u001b[0m\u001b[0m\n\u001b[1;32m   3592\u001b[0m                 \u001b[0mindexer\u001b[0m \u001b[0;34m=\u001b[0m \u001b[0mnp\u001b[0m\u001b[0;34m.\u001b[0m\u001b[0marange\u001b[0m\u001b[0;34m(\u001b[0m\u001b[0mlen\u001b[0m\u001b[0;34m(\u001b[0m\u001b[0mself\u001b[0m\u001b[0;34m.\u001b[0m\u001b[0mitems\u001b[0m\u001b[0;34m)\u001b[0m\u001b[0;34m)\u001b[0m\u001b[0;34m[\u001b[0m\u001b[0misnull\u001b[0m\u001b[0;34m(\u001b[0m\u001b[0mself\u001b[0m\u001b[0;34m.\u001b[0m\u001b[0mitems\u001b[0m\u001b[0;34m)\u001b[0m\u001b[0;34m]\u001b[0m\u001b[0;34m\u001b[0m\u001b[0m\n",
      "\u001b[0;32m/home/mathetes/Envs/ml/local/lib/python2.7/site-packages/pandas/core/indexes/base.pyc\u001b[0m in \u001b[0;36mget_loc\u001b[0;34m(self, key, method, tolerance)\u001b[0m\n\u001b[1;32m   2442\u001b[0m                 \u001b[0;32mreturn\u001b[0m \u001b[0mself\u001b[0m\u001b[0;34m.\u001b[0m\u001b[0m_engine\u001b[0m\u001b[0;34m.\u001b[0m\u001b[0mget_loc\u001b[0m\u001b[0;34m(\u001b[0m\u001b[0mkey\u001b[0m\u001b[0;34m)\u001b[0m\u001b[0;34m\u001b[0m\u001b[0m\n\u001b[1;32m   2443\u001b[0m             \u001b[0;32mexcept\u001b[0m \u001b[0mKeyError\u001b[0m\u001b[0;34m:\u001b[0m\u001b[0;34m\u001b[0m\u001b[0m\n\u001b[0;32m-> 2444\u001b[0;31m                 \u001b[0;32mreturn\u001b[0m \u001b[0mself\u001b[0m\u001b[0;34m.\u001b[0m\u001b[0m_engine\u001b[0m\u001b[0;34m.\u001b[0m\u001b[0mget_loc\u001b[0m\u001b[0;34m(\u001b[0m\u001b[0mself\u001b[0m\u001b[0;34m.\u001b[0m\u001b[0m_maybe_cast_indexer\u001b[0m\u001b[0;34m(\u001b[0m\u001b[0mkey\u001b[0m\u001b[0;34m)\u001b[0m\u001b[0;34m)\u001b[0m\u001b[0;34m\u001b[0m\u001b[0m\n\u001b[0m\u001b[1;32m   2445\u001b[0m \u001b[0;34m\u001b[0m\u001b[0m\n\u001b[1;32m   2446\u001b[0m         \u001b[0mindexer\u001b[0m \u001b[0;34m=\u001b[0m \u001b[0mself\u001b[0m\u001b[0;34m.\u001b[0m\u001b[0mget_indexer\u001b[0m\u001b[0;34m(\u001b[0m\u001b[0;34m[\u001b[0m\u001b[0mkey\u001b[0m\u001b[0;34m]\u001b[0m\u001b[0;34m,\u001b[0m \u001b[0mmethod\u001b[0m\u001b[0;34m=\u001b[0m\u001b[0mmethod\u001b[0m\u001b[0;34m,\u001b[0m \u001b[0mtolerance\u001b[0m\u001b[0;34m=\u001b[0m\u001b[0mtolerance\u001b[0m\u001b[0;34m)\u001b[0m\u001b[0;34m\u001b[0m\u001b[0m\n",
      "\u001b[0;32mpandas/_libs/index.pyx\u001b[0m in \u001b[0;36mpandas._libs.index.IndexEngine.get_loc (pandas/_libs/index.c:5280)\u001b[0;34m()\u001b[0m\n",
      "\u001b[0;32mpandas/_libs/index.pyx\u001b[0m in \u001b[0;36mpandas._libs.index.IndexEngine.get_loc (pandas/_libs/index.c:5126)\u001b[0;34m()\u001b[0m\n",
      "\u001b[0;32mpandas/_libs/hashtable_class_helper.pxi\u001b[0m in \u001b[0;36mpandas._libs.hashtable.PyObjectHashTable.get_item (pandas/_libs/hashtable.c:20523)\u001b[0;34m()\u001b[0m\n",
      "\u001b[0;32mpandas/_libs/hashtable_class_helper.pxi\u001b[0m in \u001b[0;36mpandas._libs.hashtable.PyObjectHashTable.get_item (pandas/_libs/hashtable.c:20477)\u001b[0;34m()\u001b[0m\n",
      "\u001b[0;31mKeyError\u001b[0m: 0"
     ]
    }
   ],
   "source": [
    "data"
   ]
  },
  {
   "cell_type": "code",
   "execution_count": null,
   "metadata": {
    "collapsed": true
   },
   "outputs": [],
   "source": []
  }
 ],
 "metadata": {
  "kernelspec": {
   "display_name": "ml",
   "language": "python",
   "name": "ml"
  },
  "language_info": {
   "codemirror_mode": {
    "name": "ipython",
    "version": 2
   },
   "file_extension": ".py",
   "mimetype": "text/x-python",
   "name": "python",
   "nbconvert_exporter": "python",
   "pygments_lexer": "ipython2",
   "version": "2.7.12"
  }
 },
 "nbformat": 4,
 "nbformat_minor": 2
}
